{
 "cells": [
  {
   "cell_type": "markdown",
   "metadata": {},
   "source": [
    "## Reading jsons"
   ]
  },
  {
   "cell_type": "code",
   "execution_count": 1,
   "metadata": {},
   "outputs": [],
   "source": [
    "import matplotlib as mpl\n",
    "import matplotlib.pyplot as plt\n",
    "import numpy as np\n",
    "plt.rcParams[\"figure.figsize\"] = (7,6)\n",
    "#plt.rcParams[\"figure.figsize\"] = (10,6)\n",
    "#mpl.rcParams['figure.dpi'] = 800\n",
    "#mpl.rcParams['figure.figsize'] = [60, 60]\n",
    "\n",
    "import pandas as pd\n",
    "import os,json\n",
    "\n",
    "## Read file names\n",
    "path_to_json = '.'\n",
    "times_files = [pos_json for pos_json in os.listdir(path_to_json) if pos_json.endswith('_time.json')]\n",
    "compact_time_files = [pos_json for pos_json in os.listdir(path_to_json) if pos_json.endswith('_time_compact.json')]\n",
    "mem_files = [pos_json for pos_json in os.listdir(path_to_json) if pos_json.endswith('_mem.json')]\n",
    "triangulation_files = [pos_json for pos_json in os.listdir(path_to_json) if pos_json.endswith('_triangulation_info.json')]\n",
    "\n",
    "## Read json of no compact files\n",
    "data_to_append = []\n",
    "for js in times_files:\n",
    "    data_to_append.append(pd.read_json(js, typ='series', orient='index'))\n",
    "\n",
    "##Concat all dataframe and transpose it\n",
    "data_time = pd.concat(data_to_append, axis=1)\n",
    "data_time = data_time.transpose()\n",
    "\n",
    "## Read json of compact files\n",
    "compact_data_to_append = []\n",
    "for js in compact_time_files:\n",
    "    compact_data_to_append.append(pd.read_json(js, typ='series', orient='index'))\n",
    "\n",
    "##Concat all dataframe and transpose it\n",
    "data_time_compact = pd.concat(compact_data_to_append, axis=1)\n",
    "data_time_compact = data_time_compact.transpose()\n",
    "\n",
    "## Read json of memory files\n",
    "mem_data_to_append = []\n",
    "for js in mem_files:\n",
    "    mem_data_to_append.append(pd.read_json(js, typ='series', orient='index'))\n",
    "\n",
    "##Concat all dataframe and transpose it\n",
    "data_mem = pd.concat(mem_data_to_append, axis=1)\n",
    "data_mem = data_mem.transpose()\n",
    "\n",
    "## Read json of triangulation files\n",
    "triangulation_data_to_append = []\n",
    "for js in triangulation_files:\n",
    "    triangulation_data_to_append.append(pd.read_json(js, typ='series', orient='index'))\n",
    "\n",
    "##Concat all dataframe and transpose it\n",
    "data_triangulation = pd.concat(triangulation_data_to_append, axis=1)\n",
    "data_triangulation = data_triangulation.transpose()\n",
    "\n",
    "#Sort dataframe by n_vertices\n",
    "data_time = data_time.sort_values(by=['n_vertices'])\n",
    "data_time_compact = data_time_compact.sort_values(by=['n_vertices'])\n",
    "data_mem = data_mem.sort_values(by=['num_vertices'])\n",
    "data_triangulation = data_triangulation.sort_values(by=['n_points'])\n",
    "\n",
    "# Remove last rows of dataframe\n",
    "data_time = data_time.iloc[:15]\n",
    "data_time_compact = data_time_compact.iloc[:15]\n",
    "data_mem = data_mem.iloc[:15]\n",
    "data_triangulation = data_triangulation.iloc[:15]\n",
    "\n",
    "\n",
    "## Copy tables\n",
    "data_time_table = data_time.copy(deep = True)\n",
    "data_time_compact_table = data_time_compact.copy(deep = True)\n",
    "data_mem_table = data_mem.copy(deep = True)\n",
    "data_triangulation_table = data_triangulation.copy(deep = True)\n",
    "\n",
    "#Geometric data as integer\n",
    "data_time['n_vertices'] = data_time['n_vertices'].astype(int)\n",
    "data_time['n_half_edges'] = data_time['n_half_edges'].astype(int)\n",
    "data_time['n_faces'] = data_time['n_faces'].astype(int)\n",
    "data_time['n_barrier_edge_tips'] = data_time['n_barrier_edge_tips'].astype(int)\n",
    "\n",
    "data_time_compact['n_vertices'] = data_time_compact['n_vertices'].astype(int)\n",
    "data_time_compact['n_half_edges'] = data_time_compact['n_half_edges'].astype(int)\n",
    "data_time_compact['n_faces'] = data_time_compact['n_faces'].astype(int)\n",
    "data_time_compact['n_barrier_edge_tips'] = data_time_compact['n_barrier_edge_tips'].astype(int)\n",
    "\n",
    "## Convert byte to gb\n",
    "data_mem['mem_polylla'] = data_mem['mem_gen_triangulation'] - data_mem['mem_polylla']\n",
    "data_mem['mem_triangulation'] = data_mem['mem_triangulation']/1000000000\n",
    "data_mem['mem_compact_triangulation'] = data_mem['mem_compact_triangulation']/1000000000\n",
    "data_mem['mem_gen_triangulation'] = data_mem['mem_gen_triangulation']/1000000000\n",
    "data_mem['mem_gen_compact_triangulation'] = data_mem['mem_gen_compact_triangulation']/1000000000\n",
    "data_mem['mem_polylla'] = data_mem['mem_polylla']/1000000000\n",
    "data_mem['mem_gen_polylla'] = data_mem['mem_gen_polylla']/1000000000\n",
    "\n",
    "\n",
    "## Convert ms to minutes\n",
    "data_time['time_to_generate_polygonal_mesh'] = data_time['time_to_generate_polygonal_mesh']/60000\n",
    "data_time['time_triangulation_generation'] = data_time['time_triangulation_generation']/60000\n",
    "data_time['time_to_label_max_edges'] = data_time['time_to_label_max_edges']/60000\n",
    "data_time['time_to_label_frontier_edges'] = data_time['time_to_label_frontier_edges']/60000\n",
    "data_time['time_to_label_seed_edges'] = data_time['time_to_label_seed_edges']/60000\n",
    "data_time['time_to_label_total'] = data_time['time_to_label_total']/60000\n",
    "data_time['time_to_traversal_and_repair'] = data_time['time_to_traversal_and_repair']/60000\n",
    "data_time['time_to_traversal'] = data_time['time_to_traversal']/60000\n",
    "data_time['time_to_repair'] = data_time['time_to_repair']/60000\n",
    "\n",
    "data_time_compact['time_to_generate_polygonal_mesh'] = data_time_compact['time_to_generate_polygonal_mesh']/60000\n",
    "data_time_compact['time_triangulation_generation'] = data_time_compact['time_triangulation_generation']/60000\n",
    "data_time_compact['time_to_label_max_edges'] = data_time_compact['time_to_label_max_edges']/60000\n",
    "data_time_compact['time_to_label_frontier_edges'] = data_time_compact['time_to_label_frontier_edges']/60000\n",
    "data_time_compact['time_to_label_seed_edges'] = data_time_compact['time_to_label_seed_edges']/60000\n",
    "data_time_compact['time_to_label_total'] = data_time_compact['time_to_label_total']/60000\n",
    "data_time_compact['time_to_traversal_and_repair'] = data_time_compact['time_to_traversal_and_repair']/60000\n",
    "data_time_compact['time_to_traversal'] = data_time_compact['time_to_traversal']/60000\n",
    "data_time_compact['time_to_repair'] = data_time_compact['time_to_repair']/60000\n",
    "\n",
    "data_triangulation['triangulation_time'] = data_triangulation['triangulation_time']/60000\n",
    "data_triangulation['memory_usage'] = data_triangulation['memory_usage']/1000000000\n",
    "data_triangulation['memory_peak'] = data_triangulation['memory_peak']/1000000000\n",
    "\n"
   ]
  },
  {
   "cell_type": "markdown",
   "metadata": {},
   "source": [
    "# Time generation data structure and mesh"
   ]
  },
  {
   "cell_type": "code",
   "execution_count": 2,
   "metadata": {},
   "outputs": [
    {
     "data": {
      "text/plain": [
       "Text(0, 0.5, 'Time in minutes')"
      ]
     },
     "execution_count": 2,
     "metadata": {},
     "output_type": "execute_result"
    },
    {
     "data": {
      "image/png": "[encoded data removed]",
      "text/plain": [
       "<Figure size 432x288 with 1 Axes>"
      ]
     },
     "metadata": {
      "needs_background": "light"
     },
     "output_type": "display_data"
    }
   ],
   "source": [
    "plt.scatter(data_time_compact.n_vertices, data_time_compact.time_triangulation_generation, c=\"red\",marker=\"v\", label='Generation Compact He')\n",
    "plt.scatter(data_time.n_vertices, data_time.time_triangulation_generation,c=\"blue\" ,marker=\"o\",  label='Generation AoS He')\n",
    "plt.scatter(data_triangulation.n_points, data_triangulation.triangulation_time, c=\"purple\",marker=\"P\", label='Generation Triangulation')\n",
    "\n",
    "#data_time.columns.to_list()\n",
    "plt.scatter(data_time_compact.n_vertices, data_time_compact.time_to_generate_polygonal_mesh, c=\"red\",marker=\"^\", label='Polla Compact He')\n",
    "plt.scatter(data_time.n_vertices, data_time.time_to_generate_polygonal_mesh, c=\"blue\" ,marker=\"s\",  label='Polylla AoS He')\n",
    "\n",
    "plt.legend()\n",
    "plt.ticklabel_format(style='sci', useMathText=True,  axis='x', scilimits=(0,0))\n",
    "plt.xlabel(\"Num of vertices\")\n",
    "plt.ylabel(\"Time in minutes\")"
   ]
  },
  {
   "cell_type": "code",
   "execution_count": 3,
   "metadata": {},
   "outputs": [
    {
     "data": {
      "text/html": [
       "<div>\n",
       "<style scoped>\n",
       "    .dataframe tbody tr th:only-of-type {\n",
       "        vertical-align: middle;\n",
       "    }\n",
       "\n",
       "    .dataframe tbody tr th {\n",
       "        vertical-align: top;\n",
       "    }\n",
       "\n",
       "    .dataframe thead th {\n",
       "        text-align: right;\n",
       "    }\n",
       "</style>\n",
       "<table border=\"1\" class=\"dataframe\">\n",
       "  <thead>\n",
       "    <tr style=\"text-align: right;\">\n",
       "      <th></th>\n",
       "      <th>#Vertices</th>\n",
       "      <th>Delaunay Triangulation</th>\n",
       "      <th>Triangulation AoS</th>\n",
       "      <th>Triangulation Compact</th>\n",
       "      <th>Polylla AoS</th>\n",
       "      <th>Polylla Compact</th>\n",
       "    </tr>\n",
       "  </thead>\n",
       "  <tbody>\n",
       "    <tr>\n",
       "      <th>0</th>\n",
       "      <td>15000000</td>\n",
       "      <td>5.63</td>\n",
       "      <td>0.28</td>\n",
       "      <td>0.83</td>\n",
       "      <td>1.20</td>\n",
       "      <td>37.81</td>\n",
       "    </tr>\n",
       "    <tr>\n",
       "      <th>1</th>\n",
       "      <td>14000000</td>\n",
       "      <td>5.24</td>\n",
       "      <td>0.26</td>\n",
       "      <td>0.77</td>\n",
       "      <td>1.11</td>\n",
       "      <td>35.25</td>\n",
       "    </tr>\n",
       "    <tr>\n",
       "      <th>2</th>\n",
       "      <td>13000000</td>\n",
       "      <td>4.87</td>\n",
       "      <td>0.24</td>\n",
       "      <td>0.71</td>\n",
       "      <td>1.03</td>\n",
       "      <td>32.65</td>\n",
       "    </tr>\n",
       "    <tr>\n",
       "      <th>3</th>\n",
       "      <td>12000000</td>\n",
       "      <td>4.51</td>\n",
       "      <td>0.22</td>\n",
       "      <td>0.65</td>\n",
       "      <td>0.95</td>\n",
       "      <td>30.10</td>\n",
       "    </tr>\n",
       "    <tr>\n",
       "      <th>4</th>\n",
       "      <td>11000000</td>\n",
       "      <td>4.11</td>\n",
       "      <td>0.20</td>\n",
       "      <td>0.59</td>\n",
       "      <td>0.87</td>\n",
       "      <td>27.53</td>\n",
       "    </tr>\n",
       "    <tr>\n",
       "      <th>5</th>\n",
       "      <td>10000000</td>\n",
       "      <td>3.72</td>\n",
       "      <td>0.18</td>\n",
       "      <td>0.54</td>\n",
       "      <td>0.80</td>\n",
       "      <td>25.11</td>\n",
       "    </tr>\n",
       "    <tr>\n",
       "      <th>6</th>\n",
       "      <td>9000000</td>\n",
       "      <td>3.36</td>\n",
       "      <td>0.17</td>\n",
       "      <td>0.48</td>\n",
       "      <td>0.73</td>\n",
       "      <td>22.60</td>\n",
       "    </tr>\n",
       "    <tr>\n",
       "      <th>7</th>\n",
       "      <td>8000000</td>\n",
       "      <td>2.97</td>\n",
       "      <td>0.15</td>\n",
       "      <td>0.43</td>\n",
       "      <td>0.64</td>\n",
       "      <td>19.99</td>\n",
       "    </tr>\n",
       "    <tr>\n",
       "      <th>8</th>\n",
       "      <td>7000000</td>\n",
       "      <td>2.61</td>\n",
       "      <td>0.13</td>\n",
       "      <td>0.37</td>\n",
       "      <td>0.56</td>\n",
       "      <td>17.53</td>\n",
       "    </tr>\n",
       "    <tr>\n",
       "      <th>9</th>\n",
       "      <td>6000000</td>\n",
       "      <td>2.21</td>\n",
       "      <td>0.11</td>\n",
       "      <td>0.31</td>\n",
       "      <td>0.47</td>\n",
       "      <td>14.83</td>\n",
       "    </tr>\n",
       "  </tbody>\n",
       "</table>\n",
       "</div>"
      ],
      "text/plain": [
       "   #Vertices  Delaunay Triangulation  Triangulation AoS  \\\n",
       "0   15000000                    5.63               0.28   \n",
       "1   14000000                    5.24               0.26   \n",
       "2   13000000                    4.87               0.24   \n",
       "3   12000000                    4.51               0.22   \n",
       "4   11000000                    4.11               0.20   \n",
       "5   10000000                    3.72               0.18   \n",
       "6    9000000                    3.36               0.17   \n",
       "7    8000000                    2.97               0.15   \n",
       "8    7000000                    2.61               0.13   \n",
       "9    6000000                    2.21               0.11   \n",
       "\n",
       "   Triangulation Compact  Polylla AoS  Polylla Compact  \n",
       "0                   0.83         1.20            37.81  \n",
       "1                   0.77         1.11            35.25  \n",
       "2                   0.71         1.03            32.65  \n",
       "3                   0.65         0.95            30.10  \n",
       "4                   0.59         0.87            27.53  \n",
       "5                   0.54         0.80            25.11  \n",
       "6                   0.48         0.73            22.60  \n",
       "7                   0.43         0.64            19.99  \n",
       "8                   0.37         0.56            17.53  \n",
       "9                   0.31         0.47            14.83  "
      ]
     },
     "execution_count": 3,
     "metadata": {},
     "output_type": "execute_result"
    }
   ],
   "source": [
    "from pandasql import sqldf\n",
    "pysqldf = lambda q: sqldf(q, globals())\n",
    "'''\n",
    "q = \"\"\"SELECT data_time_table.n_vertices as \"#Vertices\", data_time_table.time_to_generate_polygonal_mesh as \"Polylla AoS\", data_time_table.time_triangulation_generation as \"Triangulation AoS\", data_time_compact_table.time_to_generate_polygonal_mesh as \"Polylla Compact\", data_time_compact_table.time_triangulation_generation as \"Triangulation Compact\"\n",
    "    FROM data_time_table, data_time_compact_table\n",
    "    WHERE data_time_table.n_vertices = data_time_compact_table.n_vertices\n",
    "    ORDER BY data_time_table.n_vertices\n",
    "    LIMIT 10;\"\"\"\n",
    "'''\n",
    "\n",
    "q = \"\"\"SELECT data_time.n_vertices as \"#Vertices\", data_triangulation.triangulation_time as \"Delaunay Triangulation\", data_time.time_triangulation_generation as \"Triangulation AoS\", data_time_compact.time_triangulation_generation as \"Triangulation Compact\", data_time.time_to_generate_polygonal_mesh as \"Polylla AoS\", data_time_compact.time_to_generate_polygonal_mesh as \"Polylla Compact\"\n",
    "    FROM data_time, data_time_compact, data_triangulation\n",
    "    WHERE data_time.n_vertices = data_time_compact.n_vertices and data_time.n_vertices = data_triangulation.n_points\n",
    "    ORDER BY data_time.n_vertices Desc\n",
    "    LIMIT 10\"\"\"\n",
    "\n",
    "pysqldf(q).round(2)"
   ]
  },
  {
   "cell_type": "markdown",
   "metadata": {},
   "source": [
    "# Time by label phases"
   ]
  },
  {
   "cell_type": "code",
   "execution_count": 4,
   "metadata": {},
   "outputs": [
    {
     "data": {
      "image/png": "[encoded data removed]",
      "text/plain": [
       "<Figure size 432x288 with 1 Axes>"
      ]
     },
     "metadata": {
      "needs_background": "light"
     },
     "output_type": "display_data"
    }
   ],
   "source": [
    "plt.scatter(data_time_compact.n_vertices, data_time_compact.time_to_label_max_edges, c=\"red\",marker=\"v\", label='Label phase Compact')\n",
    "plt.scatter(data_time_compact.n_vertices, data_time_compact.time_to_label_frontier_edges, c=\"red\",marker=\"^\", label='Label frontier phase Compact')\n",
    "plt.scatter(data_time_compact.n_vertices, data_time_compact.time_to_label_seed_edges, c=\"red\",marker=\"<\", label='Label seed Compact')\n",
    "\n",
    "plt.scatter(data_time.n_vertices, data_time.time_to_label_total, c=\"blue\" ,marker=\"1\",  label='Label Phase AoS')\n",
    "#plt.scatter(data_time.n_vertices, data_time.time_to_label_max_edges, c=\"blue\" ,marker=\"1\",  label='Label Phase AoS')\n",
    "#plt.scatter(data_time.n_vertices, data_time.time_to_label_frontier_edges, c=\"blue\" ,marker=\"2\",  label='Label frontier phase AoS')\n",
    "#plt.scatter(data_time.n_vertices, data_time.time_to_label_seed_edges, c=\"blue\" ,marker=\"3\",  label='Label seed AoS')\n",
    "plt.legend()\n",
    "plt.ticklabel_format(style='sci', useMathText=True,  axis='x', scilimits=(0,0))\n",
    "plt.xlabel(\"Num of vertices\")\n",
    "plt.ylabel(\"Time in minutes\")\n",
    "plt.savefig(r'time_label_phases.pdf', bbox_inches='tight', dpi=300)"
   ]
  },
  {
   "cell_type": "markdown",
   "metadata": {},
   "source": [
    "# Time by polylla phases"
   ]
  },
  {
   "cell_type": "code",
   "execution_count": 5,
   "metadata": {},
   "outputs": [
    {
     "data": {
      "image/png": "[encoded data removed]",
      "text/plain": [
       "<Figure size 432x288 with 1 Axes>"
      ]
     },
     "metadata": {
      "needs_background": "light"
     },
     "output_type": "display_data"
    }
   ],
   "source": [
    "plt.scatter(data_time_compact.n_vertices, data_time_compact.time_to_label_total, c=\"red\",marker=\"v\", label='Label phase Compact')\n",
    "plt.scatter(data_time_compact.n_vertices, data_time_compact.time_to_traversal, c=\"red\",marker=\"^\", label='Traverse Compact')\n",
    "plt.scatter(data_time_compact.n_vertices, data_time_compact.time_to_repair, c=\"red\",marker=\"<\", label='Repair Compact')\n",
    "\n",
    "plt.scatter(data_time.n_vertices, data_time.time_to_label_total, c=\"blue\" ,marker=\"*\",  label='Label Phase AoS')\n",
    "plt.scatter(data_time.n_vertices, data_time.time_to_traversal, c=\"blue\" ,marker=\".\",  label='Traverse phase AoS')\n",
    "plt.scatter(data_time.n_vertices, data_time.time_to_repair, c=\"blue\" ,marker=\"3\",  label='Repair AoS')\n",
    "plt.legend()\n",
    "plt.ticklabel_format(style='sci', useMathText=True,  axis='x', scilimits=(0,0))\n",
    "plt.xlabel(\"Num of vertices\")\n",
    "plt.ylabel(\"Time in minutes\")\n",
    "plt.savefig(r'comp_time_polylla_phases.pdf', bbox_inches='tight', dpi=300)\n"
   ]
  },
  {
   "cell_type": "code",
   "execution_count": 6,
   "metadata": {},
   "outputs": [
    {
     "data": {
      "image/png": "[encoded data removed]",
      "text/plain": [
       "<Figure size 432x288 with 1 Axes>"
      ]
     },
     "metadata": {
      "needs_background": "light"
     },
     "output_type": "display_data"
    }
   ],
   "source": [
    "#data_time = data_time.iloc[:-1 , :]\n",
    "\n",
    "plt.scatter(data_time_compact.n_vertices, data_time_compact.time_to_generate_polygonal_mesh, c=\"green\",marker=\"o\", label='Polylla compact total')\n",
    "plt.scatter(data_time_compact.n_vertices, data_time_compact.time_to_label_total, c=\"red\",marker=\"v\", label='Label phase compact')\n",
    "plt.scatter(data_time_compact.n_vertices, data_time_compact.time_to_traversal, c=\"red\",marker=\"^\", label='Traverse compact')\n",
    "plt.scatter(data_time_compact.n_vertices, data_time_compact.time_to_repair, c=\"red\",marker=\"<\", label='Repair compact')\n",
    "plt.scatter(data_time_compact.n_vertices, data_time.time_to_generate_polygonal_mesh, c=\"green\",marker=\"p\", label='Polylla Aos Total')\n",
    "plt.scatter(data_triangulation.n_points, data_triangulation.triangulation_time, c=\"purple\",marker=\"P\", label='Delaunay triangulation')\n",
    "\n",
    "plt.legend()\n",
    "plt.ticklabel_format(style='sci', useMathText=True,  axis='x', scilimits=(0,0))\n",
    "plt.xlabel(\"Num of vertices\")\n",
    "plt.ylabel(\"Time in minutes\")\n",
    "plt.savefig(r'time_compact_polylla_phases.pdf', bbox_inches='tight', dpi=300)"
   ]
  },
  {
   "cell_type": "code",
   "execution_count": 7,
   "metadata": {},
   "outputs": [
    {
     "data": {
      "image/png": "[encoded data removed]",
      "text/plain": [
       "<Figure size 432x288 with 1 Axes>"
      ]
     },
     "metadata": {
      "needs_background": "light"
     },
     "output_type": "display_data"
    }
   ],
   "source": [
    "\n",
    "plt.scatter(data_time.n_vertices, data_time.time_to_generate_polygonal_mesh, c=\"green\",marker=\"p\", label='Polylla Aos Total')\n",
    "plt.scatter(data_time.n_vertices, data_time.time_to_label_total, c=\"blue\" ,marker=\"*\",  label='Label Phase AoS')\n",
    "plt.scatter(data_time.n_vertices, data_time.time_to_traversal, c=\"blue\" ,marker=\".\",  label='Traverse phase AoS')\n",
    "plt.scatter(data_time.n_vertices, data_time.time_to_repair, c=\"blue\" ,marker=\"3\",  label='Repair AoS')\n",
    "\n",
    "plt.legend()\n",
    "plt.ticklabel_format(style='sci', useMathText=True,  axis='x', scilimits=(0,0))\n",
    "plt.xlabel(\"Num of vertices\")\n",
    "plt.ylabel(\"Time in minutes\")\n",
    "plt.savefig(r'time_polylla_AoS_phases.pdf', bbox_inches='tight', dpi=300)"
   ]
  },
  {
   "cell_type": "markdown",
   "metadata": {},
   "source": [
    "# Memory comp general"
   ]
  },
  {
   "cell_type": "code",
   "execution_count": 8,
   "metadata": {},
   "outputs": [
    {
     "data": {
      "image/png": "[encoded data removed]",
      "text/plain": [
       "<Figure size 432x288 with 1 Axes>"
      ]
     },
     "metadata": {
      "needs_background": "light"
     },
     "output_type": "display_data"
    }
   ],
   "source": [
    "\n",
    "plt.scatter(data_mem.num_vertices, data_mem.mem_compact_triangulation, c=\"red\",marker=\"^\", label='Compact He')\n",
    "plt.scatter(data_mem.num_vertices, data_mem.mem_gen_compact_triangulation, c=\"red\",marker=\"v\", label='Compact He Generation')\n",
    "\n",
    "plt.scatter(data_mem.num_vertices, data_mem.mem_triangulation, c=\"blue\" ,marker=\"*\",  label='AoS He')\n",
    "plt.scatter(data_mem.num_vertices, data_mem.mem_gen_triangulation, c=\"blue\" ,marker=\".\",  label='AoS He Generation')\n",
    "\n",
    "plt.scatter(data_mem.num_vertices, data_mem.mem_polylla, c=\"green\" ,marker=\"D\",  label='Polylla mesh ')\n",
    "plt.scatter(data_mem.num_vertices, data_mem.mem_gen_polylla, c=\"green\" ,marker=\"s\",  label='Polylla mesh generation')\n",
    "plt.scatter(data_triangulation.n_points, data_triangulation.memory_peak, c=\"purple\",marker=\"P\", label='Delaunay triangulation generation')\n",
    "\n",
    "plt.legend()\n",
    "# https://stackoverflow.com/questions/25750170/show-decimal-places-and-scientific-notation-on-the-axis-of-a-matplotlib-plot\n",
    "plt.ticklabel_format(style='sci', useMathText=True,  axis='x', scilimits=(0,0))\n",
    "plt.xlabel(\"Num of vertices\")\n",
    "plt.ylabel(\"Memory in gigabytes\")\n",
    "plt.savefig(r'comp_memory_all.pdf', bbox_inches='tight', dpi=300)\n",
    "\n"
   ]
  },
  {
   "cell_type": "code",
   "execution_count": 9,
   "metadata": {},
   "outputs": [
    {
     "data": {
      "text/html": [
       "<div>\n",
       "<style scoped>\n",
       "    .dataframe tbody tr th:only-of-type {\n",
       "        vertical-align: middle;\n",
       "    }\n",
       "\n",
       "    .dataframe tbody tr th {\n",
       "        vertical-align: top;\n",
       "    }\n",
       "\n",
       "    .dataframe thead th {\n",
       "        text-align: right;\n",
       "    }\n",
       "</style>\n",
       "<table border=\"1\" class=\"dataframe\">\n",
       "  <thead>\n",
       "    <tr style=\"text-align: right;\">\n",
       "      <th></th>\n",
       "      <th>#Vertices</th>\n",
       "      <th>Triangulation compact</th>\n",
       "      <th>Triangulation Compact Generation</th>\n",
       "      <th>Triangulation AoS</th>\n",
       "      <th>Triangulation generation</th>\n",
       "      <th>Polylla mesh</th>\n",
       "      <th>Polylla generation</th>\n",
       "      <th>Delaunay Triangulation</th>\n",
       "    </tr>\n",
       "  </thead>\n",
       "  <tbody>\n",
       "    <tr>\n",
       "      <th>0</th>\n",
       "      <td>15000000</td>\n",
       "      <td>0.273276</td>\n",
       "      <td>3.161713</td>\n",
       "      <td>3.239450</td>\n",
       "      <td>5.578820</td>\n",
       "      <td>1.555923</td>\n",
       "      <td>4.102477</td>\n",
       "      <td>2.882202</td>\n",
       "    </tr>\n",
       "    <tr>\n",
       "      <th>1</th>\n",
       "      <td>14000000</td>\n",
       "      <td>0.255066</td>\n",
       "      <td>2.950976</td>\n",
       "      <td>3.023472</td>\n",
       "      <td>5.206867</td>\n",
       "      <td>1.436519</td>\n",
       "      <td>3.860480</td>\n",
       "      <td>2.689776</td>\n",
       "    </tr>\n",
       "    <tr>\n",
       "      <th>2</th>\n",
       "      <td>13000000</td>\n",
       "      <td>0.236857</td>\n",
       "      <td>2.740276</td>\n",
       "      <td>2.807492</td>\n",
       "      <td>4.834911</td>\n",
       "      <td>1.434557</td>\n",
       "      <td>3.400354</td>\n",
       "      <td>2.497890</td>\n",
       "    </tr>\n",
       "    <tr>\n",
       "      <th>3</th>\n",
       "      <td>12000000</td>\n",
       "      <td>0.218648</td>\n",
       "      <td>2.529471</td>\n",
       "      <td>2.591512</td>\n",
       "      <td>4.462952</td>\n",
       "      <td>1.315156</td>\n",
       "      <td>3.147797</td>\n",
       "      <td>2.305337</td>\n",
       "    </tr>\n",
       "    <tr>\n",
       "      <th>4</th>\n",
       "      <td>11000000</td>\n",
       "      <td>0.200435</td>\n",
       "      <td>2.318757</td>\n",
       "      <td>2.375533</td>\n",
       "      <td>4.090999</td>\n",
       "      <td>1.195764</td>\n",
       "      <td>2.898025</td>\n",
       "      <td>2.112923</td>\n",
       "    </tr>\n",
       "    <tr>\n",
       "      <th>5</th>\n",
       "      <td>10000000</td>\n",
       "      <td>0.182226</td>\n",
       "      <td>2.108081</td>\n",
       "      <td>2.159558</td>\n",
       "      <td>3.719051</td>\n",
       "      <td>1.076371</td>\n",
       "      <td>2.656051</td>\n",
       "      <td>1.920918</td>\n",
       "    </tr>\n",
       "    <tr>\n",
       "      <th>6</th>\n",
       "      <td>9000000</td>\n",
       "      <td>0.164017</td>\n",
       "      <td>1.897277</td>\n",
       "      <td>1.943583</td>\n",
       "      <td>3.347105</td>\n",
       "      <td>0.956971</td>\n",
       "      <td>2.414081</td>\n",
       "      <td>1.729291</td>\n",
       "    </tr>\n",
       "    <tr>\n",
       "      <th>7</th>\n",
       "      <td>8000000</td>\n",
       "      <td>0.145762</td>\n",
       "      <td>1.686682</td>\n",
       "      <td>1.727604</td>\n",
       "      <td>2.975150</td>\n",
       "      <td>0.837571</td>\n",
       "      <td>2.172114</td>\n",
       "      <td>1.536721</td>\n",
       "    </tr>\n",
       "    <tr>\n",
       "      <th>8</th>\n",
       "      <td>7000000</td>\n",
       "      <td>0.127553</td>\n",
       "      <td>1.475424</td>\n",
       "      <td>1.511635</td>\n",
       "      <td>2.603216</td>\n",
       "      <td>0.718175</td>\n",
       "      <td>1.930129</td>\n",
       "      <td>1.345416</td>\n",
       "    </tr>\n",
       "    <tr>\n",
       "      <th>9</th>\n",
       "      <td>6000000</td>\n",
       "      <td>0.109344</td>\n",
       "      <td>1.264664</td>\n",
       "      <td>1.295660</td>\n",
       "      <td>2.231270</td>\n",
       "      <td>0.657498</td>\n",
       "      <td>1.573772</td>\n",
       "      <td>1.153208</td>\n",
       "    </tr>\n",
       "  </tbody>\n",
       "</table>\n",
       "</div>"
      ],
      "text/plain": [
       "   #Vertices  Triangulation compact  Triangulation Compact Generation  \\\n",
       "0   15000000               0.273276                          3.161713   \n",
       "1   14000000               0.255066                          2.950976   \n",
       "2   13000000               0.236857                          2.740276   \n",
       "3   12000000               0.218648                          2.529471   \n",
       "4   11000000               0.200435                          2.318757   \n",
       "5   10000000               0.182226                          2.108081   \n",
       "6    9000000               0.164017                          1.897277   \n",
       "7    8000000               0.145762                          1.686682   \n",
       "8    7000000               0.127553                          1.475424   \n",
       "9    6000000               0.109344                          1.264664   \n",
       "\n",
       "   Triangulation AoS  Triangulation generation  Polylla mesh  \\\n",
       "0           3.239450                  5.578820      1.555923   \n",
       "1           3.023472                  5.206867      1.436519   \n",
       "2           2.807492                  4.834911      1.434557   \n",
       "3           2.591512                  4.462952      1.315156   \n",
       "4           2.375533                  4.090999      1.195764   \n",
       "5           2.159558                  3.719051      1.076371   \n",
       "6           1.943583                  3.347105      0.956971   \n",
       "7           1.727604                  2.975150      0.837571   \n",
       "8           1.511635                  2.603216      0.718175   \n",
       "9           1.295660                  2.231270      0.657498   \n",
       "\n",
       "   Polylla generation  Delaunay Triangulation  \n",
       "0            4.102477                2.882202  \n",
       "1            3.860480                2.689776  \n",
       "2            3.400354                2.497890  \n",
       "3            3.147797                2.305337  \n",
       "4            2.898025                2.112923  \n",
       "5            2.656051                1.920918  \n",
       "6            2.414081                1.729291  \n",
       "7            2.172114                1.536721  \n",
       "8            1.930129                1.345416  \n",
       "9            1.573772                1.153208  "
      ]
     },
     "execution_count": 9,
     "metadata": {},
     "output_type": "execute_result"
    }
   ],
   "source": [
    "q = \"\"\"SELECT data_mem.num_vertices as \"#Vertices\",  mem_compact_triangulation as \"Triangulation compact\", mem_gen_compact_triangulation as \"Triangulation Compact Generation\", mem_triangulation as \"Triangulation AoS\", mem_gen_triangulation as \"Triangulation generation\", mem_polylla as \"Polylla mesh\", mem_gen_polylla as \"Polylla generation\", memory_peak as \"Delaunay Triangulation\" \n",
    "FROM data_mem, data_triangulation\n",
    "where data_mem.num_vertices = data_triangulation.n_points\n",
    "ORDER BY num_vertices DESC\n",
    "LIMIT 10\"\"\"\n",
    "\n",
    "pysqldf(q)"
   ]
  },
  {
   "cell_type": "markdown",
   "metadata": {},
   "source": [
    "# Preguntas a responder\n",
    "\n",
    "## Time questions\n",
    "1. Percentage time diff polylla compact generation and polylla AoS generation\n",
    "2. Percentage time diff triangulation generation vs compact triangulation vs Delaunay trianglation\n",
    "\n",
    "\n",
    "\n",
    "## Memory questions\n",
    "1. Percentage memory diff polylla compact generation and polylla AoS generation \n",
    "2. Percentage memory diff triangulation generation vs compact triangulation and Delunay triangulatiuon\n",
    "3. Percetange memory diff compact triangulation vs AoS triangulation "
   ]
  },
  {
   "cell_type": "code",
   "execution_count": null,
   "metadata": {},
   "outputs": [],
   "source": [
    "time_table = \"\"\"SELECT data_time.n_vertices as \"#Vertices\", data_triangulation.triangulation_time as \"Delaunay Triangulation\", data_time.time_triangulation_generation as \"Triangulation AoS\", data_time_compact.time_triangulation_generation as \"Triangulation Compact\", data_time.time_to_generate_polygonal_mesh as \"Polylla AoS\", data_time_compact.time_to_generate_polygonal_mesh as \"Polylla Compact\"\n",
    "    FROM data_time, data_time_compact, data_triangulation\n",
    "    WHERE data_time.n_vertices = data_time_compact.n_vertices and data_time.n_vertices = data_triangulation.n_points\n",
    "    ORDER BY data_time.n_vertices Desc\n",
    "    LIMIT 10\"\"\"\n",
    "\n",
    "time_table = pysqldf(time_table)"
   ]
  }
 ],
 "metadata": {
  "kernelspec": {
   "display_name": "Python 3.8.10 64-bit",
   "language": "python",
   "name": "python3"
  },
  "language_info": {
   "codemirror_mode": {
    "name": "ipython",
    "version": 3
   },
   "file_extension": ".py",
   "mimetype": "text/x-python",
   "name": "python",
   "nbconvert_exporter": "python",
   "pygments_lexer": "ipython3",
   "version": "3.8.10"
  },
  "orig_nbformat": 4,
  "vscode": {
   "interpreter": {
    "hash": "916dbcbb3f70747c44a77c7bcd40155683ae19c65e1c03b4aa3499c5328201f1"
   }
  }
 },
 "nbformat": 4,
 "nbformat_minor": 2
}
